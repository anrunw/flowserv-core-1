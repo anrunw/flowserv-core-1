{
 "cells": [
  {
   "cell_type": "code",
   "execution_count": 1,
   "metadata": {},
   "outputs": [],
   "source": [
    "# Clone the 'Hello World' template into a local folder.\n",
    "from flowserv import Flowserv\n",
    "\n",
    "flowenv = Flowserv(basedir='.flowserv', clear=True)\n",
    "workflow = flowenv.install('helloworld', ignore_postproc=True)"
   ]
  },
  {
   "cell_type": "code",
   "execution_count": 2,
   "metadata": {},
   "outputs": [],
   "source": [
    "# Create ten run results for the 'Hello World' workflow.\n",
    "import random\n",
    "from io import StringIO\n",
    "\n",
    "\n",
    "# List of names and greetings for random input generation.\n",
    "GREETINGS = ['Hi', 'Hello', 'Hey', 'Welcome', 'Bye', 'Adios', 'See ya']\n",
    "NAMES = [\n",
    "    'Alice', 'Bob', 'Claire', 'Dave', 'Elizabeth-Anne', 'Francisco', 'Georgia', 'Howard', 'Isabella', 'Jacob',\n",
    "    'Kristina', 'Luke', 'Michelle', 'Norman', 'Olivia', 'Patrick', 'Qiana', 'Rafael', 'Sandy', 'Tom', 'Ursula',\n",
    "    'Victor', 'Whitney', 'Xiong', 'Yvette', 'Zack'\n",
    "]\n",
    "\n",
    "\n",
    "# Run workflow for each greeting phrase with a random selection of 10 names.\n",
    "runs = list()\n",
    "for i, greeting in enumerate(GREETINGS):\n",
    "    names = set()\n",
    "    while len(names) < 10:\n",
    "        names.add(random.choice(NAMES))\n",
    "    namesfile = StringIO('\\n'.join(names))\n",
    "    args = dict({\n",
    "        'greeting': greeting,\n",
    "        'sleeptime': 0,\n",
    "        'names': namesfile\n",
    "    })\n",
    "    run = workflow.start_run(args)\n",
    "    assert run.is_success()\n",
    "    runs.append(run)"
   ]
  },
  {
   "cell_type": "code",
   "execution_count": 3,
   "metadata": {},
   "outputs": [],
   "source": [
    "# Prepare the folder with run results that is passed as input\n",
    "# to the post-processing workflow.\n",
    "import os\n",
    "\n",
    "datadir = os.path.join(flowenv.basedir, 'postprocdata')\n",
    "workflow.prepare_postproc_data(outputdir=datadir, runs=runs)\n",
    "\n",
    "# Output file for post-processing results\n",
    "outputfile = os.path.join(flowenv.basedir, 'ngrams.csv')"
   ]
  },
  {
   "cell_type": "code",
   "execution_count": 4,
   "metadata": {},
   "outputs": [],
   "source": [
    "from collections import Counter\n",
    "\n",
    "import argparse\n",
    "import sys\n",
    "import time\n",
    "\n",
    "from flowserv.service.postproc.client import Runs\n",
    "\n",
    "\n",
    "def main(rundir, k=25, timeout=10, outputfile=None):\n",
    "    \"\"\"Create a csv file containing the frequency of the k most frequent\n",
    "    n-grams in the greeting files of all runs. Counts only those n-grams that\n",
    "    do not contain a whitespace character.\n",
    "    \"\"\"\n",
    "    # Count frequency of n-grams for all runs.\n",
    "    ngrams = Counter()\n",
    "    for run in Runs(rundir):\n",
    "        with open(run.get_file('results/greetings.txt'), 'r') as f:\n",
    "            for line in f:\n",
    "                line = line.strip()\n",
    "                if len(line) >= 3:\n",
    "                    for i in range(len(line) - 2):\n",
    "                        ng = line[i:i + 3].upper()\n",
    "                        if ' ' not in ng:\n",
    "                            ngrams[ng] += 1\n",
    "        # Delay execution to allow for testing running post-processing\n",
    "        # workflows\n",
    "        time.sleep(timeout)\n",
    "    # Output csv file with two columns: ngram,count\n",
    "    with open(outputfile, 'w') as f:\n",
    "        for ngram, count in ngrams.most_common(k):\n",
    "            f.write('{},{}\\n'.format(ngram, count))\n",
    "\n",
    "main(rundir=datadir, timeout=1, outputfile=outputfile)"
   ]
  },
  {
   "cell_type": "code",
   "execution_count": 5,
   "metadata": {},
   "outputs": [
    {
     "name": "stdout",
     "output_type": "stream",
     "text": [
      "ELL 15\n",
      "HEL 12\n",
      "LLO 10\n",
      "HEY 10\n",
      "WEL 10\n",
      "ELC 10\n",
      "LCO 10\n",
      "COM 10\n",
      "OME 10\n",
      "BYE 10\n",
      "ADI 10\n",
      "DIO 10\n",
      "IOS 10\n",
      "SEE 10\n",
      "ABE 5\n",
      "TOM 4\n",
      "XIO 4\n",
      "ION 4\n",
      "ONG 4\n",
      "ALI 4\n",
      "LIC 4\n",
      "ICE 4\n",
      "GEO 4\n",
      "EOR 4\n",
      "ORG 4\n"
     ]
    }
   ],
   "source": [
    "# Print contents of the generated output file\n",
    "with open(outputfile, 'r') as f:\n",
    "    for line in f:\n",
    "        ngrams, count = line.strip().split(',')\n",
    "        print('{} {}'.format(ngrams, count))"
   ]
  },
  {
   "cell_type": "code",
   "execution_count": 6,
   "metadata": {},
   "outputs": [],
   "source": [
    "# Remove all generated files\n",
    "flowenv.erase()\n"
   ]
  },
  {
   "cell_type": "code",
   "execution_count": null,
   "metadata": {},
   "outputs": [],
   "source": []
  }
 ],
 "metadata": {
  "kernelspec": {
   "display_name": "Python 3",
   "language": "python",
   "name": "python3"
  },
  "language_info": {
   "codemirror_mode": {
    "name": "ipython",
    "version": 3
   },
   "file_extension": ".py",
   "mimetype": "text/x-python",
   "name": "python",
   "nbconvert_exporter": "python",
   "pygments_lexer": "ipython3",
   "version": "3.8.1"
  }
 },
 "nbformat": 4,
 "nbformat_minor": 4
}
