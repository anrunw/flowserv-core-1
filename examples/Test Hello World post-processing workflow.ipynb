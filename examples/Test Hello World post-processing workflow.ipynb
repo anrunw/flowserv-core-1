{
 "cells": [
  {
   "cell_type": "code",
   "execution_count": 1,
   "metadata": {},
   "outputs": [],
   "source": [
    "# Clone the 'Hello World' exmaple into a temporary directory.\n",
    "from flowserv.tests.workflow import clone_helloworld\n",
    "\n",
    "workflowdir = clone_helloworld()"
   ]
  },
  {
   "cell_type": "code",
   "execution_count": 2,
   "metadata": {},
   "outputs": [],
   "source": [
    "# List of names for random input generation.\n",
    "\n",
    "NAMES = [\n",
    "    'Alice', 'Bob', 'Claire', 'Dave', 'Elizabeth-Anne', 'Francisco', 'Georgia', 'Howard', 'Isabella', 'Jacob',\n",
    "    'Kristina', 'Luke', 'Michelle', 'Norman', 'Olivia', 'Patrick', 'Qiana', 'Rafael', 'Sandy', 'Tom', 'Ursula',\n",
    "    'Victor', 'Whitney', 'Xiong', 'Yvette', 'Zack'\n",
    "]\n",
    "\n",
    "# List of greeting phrases for different workflow runs\n",
    "GREETINGS = ['Hi', 'Hello', 'Hey', 'Welcome', 'Bye', 'Adios', 'See ya']"
   ]
  },
  {
   "cell_type": "code",
   "execution_count": 3,
   "metadata": {},
   "outputs": [],
   "source": [
    "# Run workflow for each greeting phrase with a random selection of 10 names.\n",
    "import os\n",
    "import random\n",
    "import shutil\n",
    "\n",
    "from flowserv.tests.workflow import run_workflow, INPUTFILE\n",
    "\n",
    "runsdir = os.path.abspath('runs')\n",
    "if os.path.exists(runsdir):\n",
    "    shutil.rmtree(runsdir)\n",
    "os.makedirs(runsdir)\n",
    "\n",
    "runs = list()\n",
    "for i, greeting in enumerate(GREETINGS):\n",
    "    names = set()\n",
    "    while len(names) < 10:\n",
    "        names.add(random.choice(NAMES))\n",
    "    namesfile = os.path.join(runsdir, 'names{}.txt'.format(i))\n",
    "    with open(namesfile, 'w') as f:\n",
    "        for name in names:\n",
    "            f.write('{}\\n'.format(name))\n",
    "    rundir = os.path.join(runsdir, 'helloworld{}'.format(i))\n",
    "    args = dict({'greeting': greeting, 'sleeptime': 0, 'names': INPUTFILE(namesfile)})\n",
    "    state = run_workflow(workflowdir, arguments=args, rundir=rundir)\n",
    "    assert state.is_success()\n",
    "    runs.append(rundir)"
   ]
  },
  {
   "cell_type": "code",
   "execution_count": 4,
   "metadata": {},
   "outputs": [],
   "source": [
    "# Create input folder for post-processing code.\n",
    "\n",
    "from flowserv.tests.workflow import prepare_postproc_data\n",
    "\n",
    "datadir = prepare_postproc_data(os.path.join(workflowdir, 'benchmark.yaml'), runs)"
   ]
  },
  {
   "cell_type": "code",
   "execution_count": 5,
   "metadata": {},
   "outputs": [],
   "source": [
    "# Output file for post-processing results\n",
    "outputfile = os.path.join(runsdir, 'ngrams.csv')"
   ]
  },
  {
   "cell_type": "code",
   "execution_count": 6,
   "metadata": {},
   "outputs": [],
   "source": [
    "from collections import Counter\n",
    "\n",
    "import argparse\n",
    "import sys\n",
    "import time\n",
    "\n",
    "from flowserv.service.postproc.client import Runs\n",
    "\n",
    "\n",
    "def main(rundir, k=25, timeout=10, outputfile=None):\n",
    "    \"\"\"Create a csv file containing the frequency of the k most frequent\n",
    "    n-grams in the greeting files of all runs. Counts only those n-grams that\n",
    "    do not contain a whitespace character.\n",
    "    \"\"\"\n",
    "    # Count frequency of n-grams for all runs.\n",
    "    ngrams = Counter()\n",
    "    for run in Runs(rundir):\n",
    "        with open(run.get_file('results/greetings.txt'), 'r') as f:\n",
    "            for line in f:\n",
    "                line = line.strip()\n",
    "                if len(line) >= 3:\n",
    "                    for i in range(len(line) - 2):\n",
    "                        ng = line[i:i + 3].upper()\n",
    "                        if ' ' not in ng:\n",
    "                            ngrams[ng] += 1\n",
    "        # Delay execution to allow for testing running post-processing\n",
    "        # workflows\n",
    "        time.sleep(timeout)\n",
    "    # Output csv file with two columns: ngram,count\n",
    "    with open(outputfile, 'w') as f:\n",
    "        for ngram, count in ngrams.most_common(k):\n",
    "            f.write('{},{}\\n'.format(ngram, count))\n",
    "\n",
    "main(rundir=datadir, timeout=1, outputfile=outputfile)"
   ]
  },
  {
   "cell_type": "code",
   "execution_count": 7,
   "metadata": {},
   "outputs": [
    {
     "name": "stdout",
     "output_type": "stream",
     "text": [
      "ELL 17\n",
      "HEL 13\n",
      "LLO 10\n",
      "HEY 10\n",
      "WEL 10\n",
      "ELC 10\n",
      "LCO 10\n",
      "COM 10\n",
      "OME 10\n",
      "BYE 10\n",
      "ADI 10\n",
      "DIO 10\n",
      "IOS 10\n",
      "SEE 10\n",
      "ABE 7\n",
      "YVE 6\n",
      "VET 6\n",
      "ETT 6\n",
      "TTE 6\n",
      "ISA 4\n",
      "SAB 4\n",
      "BEL 4\n",
      "LLA 4\n",
      "DAV 4\n",
      "AVE 4\n"
     ]
    }
   ],
   "source": [
    "# Print contents of the generated output file\n",
    "with open(outputfile, 'r') as f:\n",
    "    for line in f:\n",
    "        ngrams, count = line.strip().split(',')\n",
    "        print('{} {}'.format(ngrams, count))"
   ]
  },
  {
   "cell_type": "code",
   "execution_count": 8,
   "metadata": {},
   "outputs": [],
   "source": [
    "# Remove all generated files\n",
    "shutil.rmtree(workflowdir)\n",
    "shutil.rmtree(runsdir)\n",
    "shutil.rmtree(datadir)\n"
   ]
  },
  {
   "cell_type": "code",
   "execution_count": null,
   "metadata": {},
   "outputs": [],
   "source": []
  }
 ],
 "metadata": {
  "kernelspec": {
   "display_name": "Python 3",
   "language": "python",
   "name": "python3"
  },
  "language_info": {
   "codemirror_mode": {
    "name": "ipython",
    "version": 3
   },
   "file_extension": ".py",
   "mimetype": "text/x-python",
   "name": "python",
   "nbconvert_exporter": "python",
   "pygments_lexer": "ipython3",
   "version": "3.8.3"
  }
 },
 "nbformat": 4,
 "nbformat_minor": 4
}
