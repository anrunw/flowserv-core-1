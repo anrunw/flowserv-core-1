{
 "cells": [
  {
   "cell_type": "code",
   "execution_count": 1,
   "metadata": {},
   "outputs": [],
   "source": [
    "import os\n",
    "\n",
    "workflowdir = '/home/heiko/projects/scailfin/PIE'\n",
    "imagefile = os.path.join(workflowdir, 'PIE_test_data/IN/SL_170619_2_GR_small/t03xy0004.tif')"
   ]
  },
  {
   "cell_type": "code",
   "execution_count": 2,
   "metadata": {},
   "outputs": [
    {
     "name": "stdout",
     "output_type": "stream",
     "text": [
      "Workflow finished with SUCCESS\n"
     ]
    }
   ],
   "source": [
    "# Run the 'PIE Single Image Analysis' workflow\n",
    "from flowserv.tests.workflow import run_workflow, INPUTFILE\n",
    "\n",
    "args = dict({'imageFile': INPUTFILE(imagefile)})\n",
    "rundir = 'pie_run'\n",
    "state = run_workflow(workflowdir, arguments=args, rundir=rundir)\n",
    "\n",
    "print('Workflow finished with {}'.format(state))"
   ]
  },
  {
   "cell_type": "code",
   "execution_count": 3,
   "metadata": {},
   "outputs": [],
   "source": [
    "# Remove run directory from repository\n",
    "import shutil\n",
    "\n",
    "shutil.rmtree(rundir)"
   ]
  },
  {
   "cell_type": "code",
   "execution_count": null,
   "metadata": {},
   "outputs": [],
   "source": []
  }
 ],
 "metadata": {
  "kernelspec": {
   "display_name": "Python 3",
   "language": "python",
   "name": "python3"
  },
  "language_info": {
   "codemirror_mode": {
    "name": "ipython",
    "version": 3
   },
   "file_extension": ".py",
   "mimetype": "text/x-python",
   "name": "python",
   "nbconvert_exporter": "python",
   "pygments_lexer": "ipython3",
   "version": "3.8.3"
  }
 },
 "nbformat": 4,
 "nbformat_minor": 4
}
