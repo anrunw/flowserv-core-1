{
 "cells": [
  {
   "cell_type": "code",
   "execution_count": 1,
   "metadata": {},
   "outputs": [],
   "source": [
    "# Clone the 'Hello World' exmaple into a temporary directory.\n",
    "from flowserv.tests.workflow import clone_helloworld\n",
    "\n",
    "workflowdir = clone_helloworld()"
   ]
  },
  {
   "cell_type": "code",
   "execution_count": 2,
   "metadata": {},
   "outputs": [],
   "source": [
    "# Create an input file with a list of names.\n",
    "import os\n",
    "\n",
    "namesfile = os.path.abspath('names.txt')\n",
    "with open(namesfile, 'w') as f:\n",
    "    for name in ['Alice', 'Bob', 'Claire', 'Dave']:\n",
    "        f.write('{}\\n'.format(name))"
   ]
  },
  {
   "cell_type": "code",
   "execution_count": 3,
   "metadata": {},
   "outputs": [
    {
     "name": "stdout",
     "output_type": "stream",
     "text": [
      "Workflow finished with SUCCESS\n"
     ]
    }
   ],
   "source": [
    "# Run the 'Hello World' workflow\n",
    "from flowserv.tests.workflow import run_workflow, INPUTFILE\n",
    "\n",
    "# Use helper function INPUTFILE to create run argument for names file.\n",
    "args = dict({'greeting': 'Hey there', 'sleeptime': 2, 'names': INPUTFILE(namesfile)})\n",
    "rundir = 'helloworld'\n",
    "state = run_workflow(workflowdir, arguments=args, rundir=rundir)\n",
    "\n",
    "print('Workflow finished with {}'.format(state))"
   ]
  },
  {
   "cell_type": "code",
   "execution_count": 4,
   "metadata": {},
   "outputs": [
    {
     "name": "stdout",
     "output_type": "stream",
     "text": [
      "Hey there Alice\n",
      "Hey there Bob\n",
      "Hey there Claire\n",
      "Hey there Dave\n"
     ]
    }
   ],
   "source": [
    "# Print greetings file\n",
    "\n",
    "with open(os.path.join(rundir, 'results/greetings.txt'), 'r') as f:\n",
    "    for line in f:\n",
    "        print(line.strip())"
   ]
  },
  {
   "cell_type": "code",
   "execution_count": 5,
   "metadata": {},
   "outputs": [],
   "source": [
    "# Remove all generated files\n",
    "import shutil\n",
    "\n",
    "shutil.rmtree(workflowdir)\n",
    "os.remove(namesfile)\n",
    "shutil.rmtree(rundir)\n"
   ]
  },
  {
   "cell_type": "code",
   "execution_count": null,
   "metadata": {},
   "outputs": [],
   "source": []
  }
 ],
 "metadata": {
  "kernelspec": {
   "display_name": "Python 3",
   "language": "python",
   "name": "python3"
  },
  "language_info": {
   "codemirror_mode": {
    "name": "ipython",
    "version": 3
   },
   "file_extension": ".py",
   "mimetype": "text/x-python",
   "name": "python",
   "nbconvert_exporter": "python",
   "pygments_lexer": "ipython3",
   "version": "3.8.1"
  }
 },
 "nbformat": 4,
 "nbformat_minor": 4
}
