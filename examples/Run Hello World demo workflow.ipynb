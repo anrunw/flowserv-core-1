{
 "cells": [
  {
   "cell_type": "code",
   "execution_count": 1,
   "metadata": {},
   "outputs": [],
   "source": [
    "# The Flowserv class provides the environment that allows\n",
    "# to install and run workflow templates.\n",
    "from flowserv import Flowserv\n",
    "\n",
    "# When creating an instance of the environment the user can\n",
    "# provide a base directory where all workflow files will be\n",
    "# stored. If no directory is given a temporaty one will be\n",
    "# created. If the 'clear' flag is True all existing files in\n",
    "# the based directory will be removed.\n",
    "flowenv = Flowserv(basedir='.flowserv', clear=True)"
   ]
  },
  {
   "cell_type": "code",
   "execution_count": 2,
   "metadata": {},
   "outputs": [
    {
     "name": "stdout",
     "output_type": "stream",
     "text": [
      "helloworld\tHello World Demo\n",
      "toptagger\tTop Tagger Demo - ML4Jets\n",
      "piesingle\tAnalyze single colony image using PIE\n"
     ]
    }
   ],
   "source": [
    "# Get a list of workflow templates that are available from\n",
    "# the flowserv repository.\n",
    "for template_id, description in flowenv.repository():\n",
    "    print('{}\\t{}'.format(template_id, description))"
   ]
  },
  {
   "cell_type": "code",
   "execution_count": 3,
   "metadata": {},
   "outputs": [],
   "source": [
    "# Install the 'Hello World!' template in the created environment.\n",
    "# The template is installed directly from the flowserv workflow\n",
    "# repository. For this example we ignore the post-processing step.\n",
    "workflow = flowenv.install('helloworld', ignore_postproc=True)"
   ]
  },
  {
   "cell_type": "code",
   "execution_count": 4,
   "metadata": {},
   "outputs": [
    {
     "name": "stdout",
     "output_type": "stream",
     "text": [
      "Workflow finished with SUCCESS\n"
     ]
    }
   ],
   "source": [
    "# Run the 'Hello World' workflow. The list of input names\n",
    "# can be read from a file or given as an io buffer.\n",
    "from io import StringIO\n",
    "\n",
    "names = StringIO('\\n'.join(['Alice', 'Bob', 'Claire', 'Dave']))\n",
    "args = dict({\n",
    "    'greeting': 'Hey there',\n",
    "    'sleeptime': 2,\n",
    "    'names': names\n",
    "})\n",
    "\n",
    "run = workflow.start_run(args)\n",
    "\n",
    "print('Workflow finished with {}'.format(run))"
   ]
  },
  {
   "cell_type": "code",
   "execution_count": 5,
   "metadata": {},
   "outputs": [
    {
     "name": "stdout",
     "output_type": "stream",
     "text": [
      "results/greetings.txt\n",
      "results/analytics.json\n"
     ]
    }
   ],
   "source": [
    "# List names of all run result files.\n",
    "\n",
    "for _, filename in run.files():\n",
    "    print(filename)"
   ]
  },
  {
   "cell_type": "code",
   "execution_count": 6,
   "metadata": {},
   "outputs": [
    {
     "name": "stdout",
     "output_type": "stream",
     "text": [
      "b'Hey there Alice'\n",
      "b'Hey there Bob'\n",
      "b'Hey there Claire'\n",
      "b'Hey there Dave'\n"
     ]
    }
   ],
   "source": [
    "# Print greetings file.\n",
    "\n",
    "with run.open('results/greetings.txt') as f:\n",
    "    for line in f:\n",
    "        print(line.strip())"
   ]
  },
  {
   "cell_type": "code",
   "execution_count": 7,
   "metadata": {},
   "outputs": [],
   "source": [
    "# Erase will delete the base directory.\n",
    "flowenv.erase()"
   ]
  }
 ],
 "metadata": {
  "kernelspec": {
   "display_name": "Python 3",
   "language": "python",
   "name": "python3"
  },
  "language_info": {
   "codemirror_mode": {
    "name": "ipython",
    "version": 3
   },
   "file_extension": ".py",
   "mimetype": "text/x-python",
   "name": "python",
   "nbconvert_exporter": "python",
   "pygments_lexer": "ipython3",
   "version": "3.8.1"
  }
 },
 "nbformat": 4,
 "nbformat_minor": 4
}
