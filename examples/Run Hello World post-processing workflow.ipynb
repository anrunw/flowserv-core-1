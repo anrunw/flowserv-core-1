{
 "cells": [
  {
   "cell_type": "code",
   "execution_count": 1,
   "metadata": {},
   "outputs": [],
   "source": [
    "# Clone the 'Hello World' template into a local folder. Make\n",
    "# sure to NOT ignore the post-processing step.\n",
    "from flowserv import Flowserv\n",
    "\n",
    "flowenv = Flowserv(basedir='.flowserv', clear=True)\n",
    "workflow = flowenv.install('helloworld', ignore_postproc=False)"
   ]
  },
  {
   "cell_type": "code",
   "execution_count": 2,
   "metadata": {},
   "outputs": [],
   "source": [
    "# Create ten runs for the 'Hello World' workflow.\n",
    "import random\n",
    "from io import StringIO\n",
    "\n",
    "\n",
    "# List of names and greetings for random input generation.\n",
    "GREETINGS = ['Hi', 'Hello', 'Hey', 'Welcome', 'Bye', 'Adios', 'See ya']\n",
    "NAMES = [\n",
    "    'Alice', 'Bob', 'Claire', 'Dave', 'Elizabeth-Anne', 'Francisco', 'Georgia', 'Howard', 'Isabella', 'Jacob',\n",
    "    'Kristina', 'Luke', 'Michelle', 'Norman', 'Olivia', 'Patrick', 'Qiana', 'Rafael', 'Sandy', 'Tom', 'Ursula',\n",
    "    'Victor', 'Whitney', 'Xiong', 'Yvette', 'Zack'\n",
    "]\n",
    "\n",
    "\n",
    "# Run workflow for each greeting phrase with a random selection of 10 names.\n",
    "for i, greeting in enumerate(GREETINGS):\n",
    "    names = set()\n",
    "    while len(names) < 10:\n",
    "        names.add(random.choice(NAMES))\n",
    "    namesfile = StringIO('\\n'.join(names))\n",
    "    args = dict({\n",
    "        'greeting': greeting,\n",
    "        'sleeptime': 0,\n",
    "        'names': namesfile\n",
    "    })\n",
    "    run = workflow.start_run(args)\n",
    "    assert run.is_success()"
   ]
  },
  {
   "cell_type": "code",
   "execution_count": 3,
   "metadata": {},
   "outputs": [
    {
     "data": {
      "text/plain": [
       "[('c03bb0d70cf84bf2bf24d5661130623b', 'results/ngrams.csv')]"
      ]
     },
     "execution_count": 3,
     "metadata": {},
     "output_type": "execute_result"
    }
   ],
   "source": [
    "# Get handle for post-processing results and list the\n",
    "# available files.\n",
    "postrun = workflow.get_postproc_results()\n",
    "postrun.files()"
   ]
  },
  {
   "cell_type": "code",
   "execution_count": 4,
   "metadata": {},
   "outputs": [
    {
     "name": "stdout",
     "output_type": "stream",
     "text": [
      "ELL,14\n",
      "HEL,13\n",
      "ADI,10\n",
      "DIO,10\n",
      "IOS,10\n",
      "LLO,10\n",
      "BYE,10\n",
      "SEE,10\n",
      "WEL,10\n",
      "ELC,10\n",
      "LCO,10\n",
      "COM,10\n",
      "OME,10\n",
      "HEY,10\n",
      "ALI,5\n",
      "LIC,5\n",
      "ICE,5\n",
      "QIA,5\n",
      "IAN,5\n",
      "ANA,5\n",
      "ABE,4\n",
      "ZAC,4\n",
      "ACK,4\n",
      "FRA,4\n",
      "RAN,4\n"
     ]
    }
   ],
   "source": [
    "# Print results in the ngrams.csv file\n",
    "with postrun.open('results/ngrams.csv') as f:\n",
    "    for line in f:\n",
    "        print(line.decode('utf-8').strip())"
   ]
  },
  {
   "cell_type": "code",
   "execution_count": 5,
   "metadata": {},
   "outputs": [],
   "source": [
    "# Remove all generated files\n",
    "flowenv.erase()"
   ]
  }
 ],
 "metadata": {
  "kernelspec": {
   "display_name": "Python 3",
   "language": "python",
   "name": "python3"
  },
  "language_info": {
   "codemirror_mode": {
    "name": "ipython",
    "version": 3
   },
   "file_extension": ".py",
   "mimetype": "text/x-python",
   "name": "python",
   "nbconvert_exporter": "python",
   "pygments_lexer": "ipython3",
   "version": "3.8.1"
  }
 },
 "nbformat": 4,
 "nbformat_minor": 4
}
