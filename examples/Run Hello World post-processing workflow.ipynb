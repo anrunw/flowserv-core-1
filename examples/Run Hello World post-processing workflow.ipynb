{
 "cells": [
  {
   "cell_type": "code",
   "execution_count": 1,
   "metadata": {},
   "outputs": [],
   "source": [
    "# Clone the 'Hello World' exmaple into a temporary directory.\n",
    "from flowserv.tests.workflow import clone_helloworld\n",
    "\n",
    "workflowdir = clone_helloworld()"
   ]
  },
  {
   "cell_type": "code",
   "execution_count": 2,
   "metadata": {},
   "outputs": [],
   "source": [
    "# List of names for random input generation.\n",
    "\n",
    "NAMES = [\n",
    "    'Alice', 'Bob', 'Claire', 'Dave', 'Elizabeth-Anne', 'Francisco', 'Georgia', 'Howard', 'Isabella', 'Jacob',\n",
    "    'Kristina', 'Luke', 'Michelle', 'Norman', 'Olivia', 'Patrick', 'Qiana', 'Rafael', 'Sandy', 'Tom', 'Ursula',\n",
    "    'Victor', 'Whitney', 'Xiong', 'Yvette', 'Zack'\n",
    "]\n",
    "\n",
    "# List of greeting phrases for different workflow runs\n",
    "GREETINGS = ['Hi', 'Hello', 'Hey', 'Welcome', 'Hola', 'Salut', 'Alo', 'Ciao']"
   ]
  },
  {
   "cell_type": "code",
   "execution_count": 3,
   "metadata": {},
   "outputs": [],
   "source": [
    "# Run workflow for each greeting phrase with a random selection of 10 names.\n",
    "import os\n",
    "import random\n",
    "import shutil\n",
    "\n",
    "from flowserv.tests.workflow import run_workflow, INPUTFILE\n",
    "\n",
    "runsdir = os.path.abspath('runs')\n",
    "if os.path.exists(runsdir):\n",
    "    shutil.rmtree(runsdir)\n",
    "os.makedirs(runsdir)\n",
    "\n",
    "runs = list()\n",
    "for i, greeting in enumerate(GREETINGS):\n",
    "    names = set()\n",
    "    while len(names) < 10:\n",
    "        names.add(random.choice(NAMES))\n",
    "    namesfile = os.path.join(runsdir, 'names{}.txt'.format(i))\n",
    "    with open(namesfile, 'w') as f:\n",
    "        for name in names:\n",
    "            f.write('{}\\n'.format(name))\n",
    "    rundir = os.path.join(runsdir, 'helloworld{}'.format(i))\n",
    "    args = dict({'greeting': greeting, 'sleeptime': 0, 'names': INPUTFILE(namesfile)})\n",
    "    state = run_workflow(workflowdir, arguments=args, rundir=rundir)\n",
    "    assert state.is_success()\n",
    "    runs.append(rundir)"
   ]
  },
  {
   "cell_type": "code",
   "execution_count": 4,
   "metadata": {},
   "outputs": [],
   "source": [
    "from flowserv.tests.workflow import run_postproc_workflow\n",
    "\n",
    "# Create separate folder for post-processing workflow. Delete folder\n",
    "# if it still exists from a previous run.\n",
    "postprocdir = os.path.abspath('postproc')\n",
    "if os.path.exists(postprocdir):\n",
    "    shutil.rmtree(postprocdir)\n",
    "\n",
    "state = run_postproc_workflow(workflowdir, runs, rundir=postprocdir)\n",
    "\n",
    "if state.is_error():\n",
    "    for msg in state.messages:\n",
    "        print(msg)"
   ]
  },
  {
   "cell_type": "code",
   "execution_count": 5,
   "metadata": {},
   "outputs": [
    {
     "name": "stdout",
     "output_type": "stream",
     "text": [
      "ELL 14\n",
      "HEL 13\n",
      "LLO 10\n",
      "HEY 10\n",
      "WEL 10\n",
      "ELC 10\n",
      "LCO 10\n",
      "COM 10\n",
      "OME 10\n",
      "HOL 10\n",
      "OLA 10\n",
      "SAL 10\n",
      "ALU 10\n",
      "LUT 10\n",
      "ALO 10\n",
      "CIA 10\n",
      "IAO 10\n",
      "YVE 5\n",
      "VET 5\n",
      "ETT 5\n",
      "TTE 5\n",
      "LUK 5\n",
      "UKE 5\n",
      "XIO 5\n",
      "ION 5\n"
     ]
    }
   ],
   "source": [
    "# Print contents of the generated output file\n",
    "outputfile = os.path.join(postprocdir, 'results/ngrams.csv')\n",
    "with open(outputfile, 'r') as f:\n",
    "    for line in f:\n",
    "        ngrams, count = line.strip().split(',')\n",
    "        print('{} {}'.format(ngrams, count))"
   ]
  },
  {
   "cell_type": "code",
   "execution_count": 6,
   "metadata": {},
   "outputs": [],
   "source": [
    "# Remove all generated files\n",
    "shutil.rmtree(workflowdir)\n",
    "shutil.rmtree(runsdir)\n",
    "shutil.rmtree(postprocdir)\n"
   ]
  },
  {
   "cell_type": "code",
   "execution_count": null,
   "metadata": {},
   "outputs": [],
   "source": []
  }
 ],
 "metadata": {
  "kernelspec": {
   "display_name": "Python 3",
   "language": "python",
   "name": "python3"
  },
  "language_info": {
   "codemirror_mode": {
    "name": "ipython",
    "version": 3
   },
   "file_extension": ".py",
   "mimetype": "text/x-python",
   "name": "python",
   "nbconvert_exporter": "python",
   "pygments_lexer": "ipython3",
   "version": "3.8.1"
  }
 },
 "nbformat": 4,
 "nbformat_minor": 4
}
