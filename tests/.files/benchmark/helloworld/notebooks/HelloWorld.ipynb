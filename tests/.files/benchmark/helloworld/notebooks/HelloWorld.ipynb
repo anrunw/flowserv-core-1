{
 "cells": [
  {
   "cell_type": "code",
   "execution_count": 1,
   "id": "lined-louisiana",
   "metadata": {},
   "outputs": [],
   "source": [
    "import os"
   ]
  },
  {
   "cell_type": "code",
   "execution_count": 2,
   "id": "dramatic-islam",
   "metadata": {},
   "outputs": [],
   "source": [
    "# Get greeting phrase from input argument 'greeting'.\n",
    "\n",
    "greeting = '...'"
   ]
  },
  {
   "cell_type": "code",
   "execution_count": 3,
   "id": "pregnant-works",
   "metadata": {},
   "outputs": [],
   "source": [
    "# Read names from input file.  Get path to the\n",
    "# input file from input argument 'inputfile'.\n",
    "\n",
    "inputfile = '...'\n",
    "with open(inputfile, 'rt') as f:\n",
    "    names = list([line.strip() for line in f])"
   ]
  },
  {
   "cell_type": "code",
   "execution_count": 4,
   "id": "computational-handy",
   "metadata": {},
   "outputs": [],
   "source": [
    "# Ensure that the output directory exists. Get path to the\n",
    "# output file from input argument 'outputfile'.\n",
    "\n",
    "outputfile = '...'\n",
    "os.makedirs(os.path.dirname(outputfile), exist_ok=True)"
   ]
  },
  {
   "cell_type": "code",
   "execution_count": 5,
   "id": "protecting-assessment",
   "metadata": {},
   "outputs": [],
   "source": [
    "# Write greetings to output file.\n",
    "\n",
    "with open(outputfile, 'wt') as f:\n",
    "    for name in names:\n",
    "        f.write(f'{greeting} {name}!\\n')"
   ]
  }
 ],
 "metadata": {
  "kernelspec": {
   "display_name": "Python 3",
   "language": "python",
   "name": "python3"
  },
  "language_info": {
   "codemirror_mode": {
    "name": "ipython",
    "version": 3
   },
   "file_extension": ".py",
   "mimetype": "text/x-python",
   "name": "python",
   "nbconvert_exporter": "python",
   "pygments_lexer": "ipython3",
   "version": "3.9.1"
  }
 },
 "nbformat": 4,
 "nbformat_minor": 5
}
